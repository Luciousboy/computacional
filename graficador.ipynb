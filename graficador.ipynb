{
 "cells": [
  {
   "cell_type": "code",
   "execution_count": 2,
   "metadata": {},
   "outputs": [],
   "source": [
    "import sys\n",
    "sys.path.append('/usr/local/lib/python3.5/site-packages')\n",
    "import numpy as np\n",
    "import matplotlib.pyplot as plt\n",
    "import pandas as pd\n",
    "import networkx as nx\n",
    "import os"
   ]
  },
  {
   "cell_type": "code",
   "execution_count": 4,
   "metadata": {},
   "outputs": [
    {
     "data": {
      "text/plain": [
       "\"\\ndata1 = pd.read_csv(myFolder+'\\\\tablas_L=4.txt', sep=' ', header=None)\\ndata2 = pd.read_csv(myFolder+'\\\\tablas_L=16.txt', sep=' ', header=None)\\ndata3 = pd.read_csv(myFolder+'\\\\tablas_L=32.txt', sep=' ', header=None)\\ndata4 = pd.read_csv(myFolder+'\\\\tablas_L=64.txt', sep=' ', header=None)\\ndata5 = pd.read_csv(myFolder+'\\\\tablas_L=128.txt', sep=' ', header=None)\\n\""
      ]
     },
     "execution_count": 4,
     "metadata": {},
     "output_type": "execute_result"
    }
   ],
   "source": [
    "# Leemos el archivo\n",
    "myFolder = (os.getcwd()) # busca en el directorio actual\n",
    "\n",
    "probabilidad_L = [];\n",
    "fz_percolante_L =[];\n",
    "percola_L = [];\n",
    "ns_L = [];\n",
    "\n",
    "prob_total =[]; #esto sería una lista de listas donde cada elemento es el archivo\n",
    "fz_perc_total =[];\n",
    "ns_total = [];\n",
    "\n",
    "data1 = open(myFolder+'\\\\tablas_L=4.txt', \"rt\")\n",
    "contenido=data1.read()\n",
    "\n",
    "#Acá paso los datos a una lista de strings y recorro todos\n",
    "l=[4,16,32,64,128];\n",
    "\n",
    "for i,l in enumerate(l):\n",
    "    mylines = []                             # Declare an empty list named mylines.\n",
    "    with open ('tablas_L='+l+'.txt', 'rt') as myfile: # Open lorem.txt for reading text data.\n",
    "        for myline in myfile:                # For each line, stored as myline,\n",
    "            mylines.append(myline);           # add its contents to mylines, es una lista de strings\n",
    "            dim = len(mylines)                #cantidad de lineas que tengo\n",
    "            largo=len(mylines[0]);           #tomo la primera, pero todas tienen misma cantidad de elementos\n",
    "            for i in range(0,dim):         #que recorra todas las filas de mi archivo (son las corridas)\n",
    "                promedio=0;\n",
    "                probabilidad_L.append(mylines[i][0]) ;\n",
    "                fz_percolante_L.append(mylines[i][1]);\n",
    "                percola_L.append(mylines[i][2]);             \n",
    "#                for j in range(3,largo):    #para el resto de los elementos que son los ns\n",
    "#                    promedio=promedio+mylines[i][j];\n",
    "#                ns_L.append(promedio/(largo-3));\n",
    "#por lo que entendí tendría que promediar entre las distintas filas las posiciones de ns\n",
    "                    \n",
    "            \n",
    "            \n",
    "            prob_total.append(probabilidad_L)\n",
    "            fz_perc_total.append(fz_percolante_L);\n",
    "            ns_total.append(ns_L);\n",
    "\n",
    "#-----cosas para graficar: \n",
    "#----A determinar Pc(inf), nu y tau\n",
    "#Pc vs L\n",
    "#Pc vs dispersión\n",
    "#Determinar nu (franco lo hace con log(Pc(L)-Pc(inf))) vs log L\n",
    "#F(p) vs p\n",
    "            \n",
    "#----B determinar D (dimensión fractal)\n",
    "#log(ns) vs log(s)\n",
    "#chi^2 vs p\n",
    "\n",
    "#----C obtener beta a partir de la P(inf)\n",
    "#log M vs log L, donde M es la masa\n",
    "#Pinf(p) vs (p-pc)\n",
    "#log(Pinf(p)) vs log (p-pc)\n",
    "\n",
    "\n"
   ]
  },
  {
   "cell_type": "code",
   "execution_count": 14,
   "metadata": {},
   "outputs": [
    {
     "name": "stdout",
     "output_type": "stream",
     "text": [
      "2\n",
      "3\n",
      "4\n",
      "5\n",
      "6\n"
     ]
    }
   ],
   "source": [
    "\n"
   ]
  },
  {
   "cell_type": "code",
   "execution_count": 10,
   "metadata": {},
   "outputs": [
    {
     "name": "stdout",
     "output_type": "stream",
     "text": [
      "\n"
     ]
    }
   ],
   "source": [
    "print (data1.read(4))"
   ]
  },
  {
   "cell_type": "code",
   "execution_count": 13,
   "metadata": {},
   "outputs": [
    {
     "name": "stdout",
     "output_type": "stream",
     "text": [
      "80\n"
     ]
    }
   ],
   "source": []
  },
  {
   "cell_type": "code",
   "execution_count": null,
   "metadata": {},
   "outputs": [],
   "source": []
  }
 ],
 "metadata": {
  "kernelspec": {
   "display_name": "Python 3",
   "language": "python",
   "name": "python3"
  },
  "language_info": {
   "codemirror_mode": {
    "name": "ipython",
    "version": 3
   },
   "file_extension": ".py",
   "mimetype": "text/x-python",
   "name": "python",
   "nbconvert_exporter": "python",
   "pygments_lexer": "ipython3",
   "version": "3.6.5"
  }
 },
 "nbformat": 4,
 "nbformat_minor": 2
}
