{
 "cells": [
  {
   "cell_type": "code",
   "execution_count": 20,
   "metadata": {},
   "outputs": [],
   "source": [
    "import sys\n",
    "sys.path.append('/usr/local/lib/python3.5/site-packages')\n",
    "import numpy as np\n",
    "import matplotlib.pyplot as plt\n",
    "import pandas as pd\n",
    "import networkx as nx\n",
    "import os\n"
   ]
  },
  {
   "cell_type": "code",
   "execution_count": 21,
   "metadata": {},
   "outputs": [],
   "source": [
    "# Leemos el archivo\n",
    "myFolder = (os.getcwd()) # busca en el directorio actual\n",
    "\n",
    "#Acá paso los datos a una lista de strings y recorro todos\n",
    "L=['4','16','32','64','128'];\n",
    "\n",
    "\n",
    "#-----cosas para graficar: \n",
    "#----A determinar Pc(inf), nu y tau\n",
    "#Pc vs L\n",
    "#Pc vs dispersión\n",
    "#Determinar nu (franco lo hace con log(Pc(L)-Pc(inf))) vs log L\n",
    "#F(p) vs p\n",
    "            \n",
    "#----B determinar D (dimensión fractal)\n",
    "#log(ns) vs log(s)\n",
    "#chi^2 vs p\n",
    "\n",
    "#----C obtener beta a partir de la P(inf)\n",
    "#log M vs log L, donde M es la masa\n",
    "#Pinf(p) vs (p-pc)\n",
    "#log(Pinf(p)) vs log (p-pc)\n"
   ]
  },
  {
   "cell_type": "markdown",
   "metadata": {},
   "source": [
    "Ejercicio 1."
   ]
  },
  {
   "cell_type": "code",
   "execution_count": 92,
   "metadata": {},
   "outputs": [],
   "source": [
    "pc_mean = [];\n",
    "pc_std = [];\n",
    "pc_L =[]; \n",
    "#quiero promediar mis pc para cada L\n",
    "#for i,l in enumerate(l):\n",
    "l='4'\n",
    "with open ('datos_p_L='+l+'.txt', 'r') as mf: \n",
    "    myfile=mf.read()\n",
    "    datos = [float(i) for i in myfile.split(' ')[:-3] if i.strip()];\n",
    "    pc_mean= np.mean(datos);\n",
    "    pc_std=np.std(datos);\n",
    "    pc_L=[l, pc_mean, pc_std];\n",
    "mf.close()\n"
   ]
  },
  {
   "cell_type": "code",
   "execution_count": null,
   "metadata": {},
   "outputs": [],
   "source": []
  },
  {
   "cell_type": "markdown",
   "metadata": {},
   "source": [
    "Ejercicio 2."
   ]
  },
  {
   "cell_type": "code",
   "execution_count": 18,
   "metadata": {},
   "outputs": [
    {
     "name": "stdout",
     "output_type": "stream",
     "text": [
      "0.000000 -nan 0.000000 0.000000 0.000000 0.000000 0.000000 0.000000 0.000000 0.000000 0.000000 0.000000 0.000000 0.000000 0.000000 0.000000 0.000000 0.000000 0.000000 \n",
      "\n",
      "dim = 1\n",
      "largo = 168\n",
      "['0.000000', '-nan', '0.000000', '0.000000', '0.000000', '0.000000', '0.000000', '0.000000', '0.000000', '0.000000', '0.000000', '0.000000', '0.000000', '0.000000', '0.000000', '0.000000', '0.000000', '0.000000', '0.000000']\n"
     ]
    },
    {
     "ename": "ValueError",
     "evalue": "could not convert string to float: '.'",
     "output_type": "error",
     "traceback": [
      "\u001b[1;31m---------------------------------------------------------------------------\u001b[0m",
      "\u001b[1;31mValueError\u001b[0m                                Traceback (most recent call last)",
      "\u001b[1;32m<ipython-input-18-54983fd28421>\u001b[0m in \u001b[0;36m<module>\u001b[1;34m\u001b[0m\n\u001b[0;32m     26\u001b[0m             \u001b[0mpromedio\u001b[0m\u001b[1;33m=\u001b[0m\u001b[1;36m0\u001b[0m\u001b[1;33m;\u001b[0m\u001b[1;33m\u001b[0m\u001b[1;33m\u001b[0m\u001b[0m\n\u001b[0;32m     27\u001b[0m             \u001b[0mprobabilidad_L\u001b[0m\u001b[1;33m.\u001b[0m\u001b[0mappend\u001b[0m\u001b[1;33m(\u001b[0m\u001b[0mfloat\u001b[0m\u001b[1;33m(\u001b[0m\u001b[0mmylines\u001b[0m\u001b[1;33m[\u001b[0m\u001b[0mi\u001b[0m\u001b[1;33m]\u001b[0m\u001b[1;33m[\u001b[0m\u001b[1;36m0\u001b[0m\u001b[1;33m]\u001b[0m\u001b[1;33m)\u001b[0m\u001b[1;33m)\u001b[0m \u001b[1;33m;\u001b[0m\u001b[1;33m\u001b[0m\u001b[1;33m\u001b[0m\u001b[0m\n\u001b[1;32m---> 28\u001b[1;33m             \u001b[0mfz_percolante_L\u001b[0m\u001b[1;33m.\u001b[0m\u001b[0mappend\u001b[0m\u001b[1;33m(\u001b[0m\u001b[0mfloat\u001b[0m\u001b[1;33m(\u001b[0m\u001b[0mmylines\u001b[0m\u001b[1;33m[\u001b[0m\u001b[0mi\u001b[0m\u001b[1;33m]\u001b[0m\u001b[1;33m[\u001b[0m\u001b[1;36m1\u001b[0m\u001b[1;33m]\u001b[0m\u001b[1;33m)\u001b[0m\u001b[1;33m)\u001b[0m\u001b[1;33m;\u001b[0m\u001b[1;33m\u001b[0m\u001b[1;33m\u001b[0m\u001b[0m\n\u001b[0m\u001b[0;32m     29\u001b[0m             \u001b[0mpercola_L\u001b[0m\u001b[1;33m.\u001b[0m\u001b[0mappend\u001b[0m\u001b[1;33m(\u001b[0m\u001b[0mfloat\u001b[0m\u001b[1;33m(\u001b[0m\u001b[0mmylines\u001b[0m\u001b[1;33m[\u001b[0m\u001b[0mi\u001b[0m\u001b[1;33m]\u001b[0m\u001b[1;33m[\u001b[0m\u001b[1;36m2\u001b[0m\u001b[1;33m]\u001b[0m\u001b[1;33m)\u001b[0m\u001b[1;33m)\u001b[0m\u001b[1;33m;\u001b[0m\u001b[1;33m\u001b[0m\u001b[1;33m\u001b[0m\u001b[0m\n\u001b[0;32m     30\u001b[0m             \u001b[1;32mfor\u001b[0m \u001b[0mj\u001b[0m \u001b[1;32min\u001b[0m \u001b[0mrange\u001b[0m\u001b[1;33m(\u001b[0m\u001b[1;36m3\u001b[0m\u001b[1;33m,\u001b[0m\u001b[0mlargo\u001b[0m\u001b[1;33m)\u001b[0m\u001b[1;33m:\u001b[0m    \u001b[1;31m#para el resto de los elementos que son los ns\u001b[0m\u001b[1;33m\u001b[0m\u001b[1;33m\u001b[0m\u001b[0m\n",
      "\u001b[1;31mValueError\u001b[0m: could not convert string to float: '.'"
     ]
    }
   ],
   "source": [
    "probabilidad_L = [];\n",
    "fz_percolante_L =[];\n",
    "percola_L = [];\n",
    "ns_L = [];\n",
    "prob_total =[]; #esto sería una lista de listas donde cada elemento es el archivo\n",
    "fz_perc_total =[];\n",
    "ns_total = [];\n",
    "datos=[];\n",
    "\n",
    "#for k,l in enumerate(L):\n",
    "with open ('Tablas_L=4.txt', 'rt') as myfile: # Open lorem.txt for reading text data.\n",
    "    mylines = [];\n",
    "    for myline in myfile:                # For each line, stored as myline,\n",
    "        mylines.append(myline)\n",
    "        print( myline)\n",
    "        datos = [i for i in myline.split(' ')[:-1]] \n",
    "        largo=len(datos);           #tomo la primera, pero todas tienen misma cantidad de elementos\n",
    "        print('largo =', largo)\n",
    "        print(datos)\n",
    "        probabilidad_L.append(float(datos[0]));\n",
    "        fz_percolante_L.append(float(datos[1]));          \n",
    "            \n",
    "        for j in range(2,largo):    #para el resto de los elementos que son los ns\n",
    "            ns_L.append(float(datos[0]));\n",
    "            ns_L.append(float(datos[j]));                 \n",
    "        \n",
    "prob_total.append(probabilidad_L)\n",
    "fz_perc_total.append(fz_percolante_L);\n",
    "ns_total.append(ns_L);\n",
    "print('mis lineas son:'+ mylines)\n",
    "myfile.close()"
   ]
  },
  {
   "cell_type": "code",
   "execution_count": null,
   "metadata": {},
   "outputs": [],
   "source": [
    "\n"
   ]
  },
  {
   "cell_type": "code",
   "execution_count": null,
   "metadata": {},
   "outputs": [],
   "source": []
  },
  {
   "cell_type": "code",
   "execution_count": null,
   "metadata": {},
   "outputs": [],
   "source": []
  }
 ],
 "metadata": {
  "kernelspec": {
   "display_name": "Python 3",
   "language": "python",
   "name": "python3"
  },
  "language_info": {
   "codemirror_mode": {
    "name": "ipython",
    "version": 3
   },
   "file_extension": ".py",
   "mimetype": "text/x-python",
   "name": "python",
   "nbconvert_exporter": "python",
   "pygments_lexer": "ipython3",
   "version": "3.6.7"
  }
 },
 "nbformat": 4,
 "nbformat_minor": 2
}
